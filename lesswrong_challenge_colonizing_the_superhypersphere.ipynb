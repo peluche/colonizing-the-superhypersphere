{
  "cells": [
    {
      "cell_type": "markdown",
      "metadata": {
        "id": "V8n_vM3jIitW"
      },
      "source": [
        "# lesswrong challenge: Colonizing the SuperHyperSphere"
      ]
    },
    {
      "cell_type": "markdown",
      "metadata": {
        "id": "oB3fu4tcIgHF"
      },
      "source": [
        "problem: https://www.lesswrong.com/posts/Rpjrwspx2QZuHbmPE/d-and-d-sci-fi-colonizing-the-superhypersphere-evaluation\n",
        "\n",
        "submit: https://h-b-p.github.io/d-and-d-sci-SuperHyperSphere/"
      ]
    },
    {
      "cell_type": "markdown",
      "metadata": {
        "id": "aktjQ_0E0BWR"
      },
      "source": [
        "## setup"
      ]
    },
    {
      "cell_type": "code",
      "execution_count": 35,
      "metadata": {
        "colab": {
          "base_uri": "https://localhost:8080/"
        },
        "id": "LOkR7Lp1B_6b",
        "outputId": "acc75e28-97a4-4b55-f703-703fc4e8c5bb"
      },
      "outputs": [
        {
          "name": "stderr",
          "output_type": "stream",
          "text": [
            "'wget' is not recognized as an internal or external command,\n",
            "operable program or batch file.\n",
            "'wget' is not recognized as an internal or external command,\n",
            "operable program or batch file.\n"
          ]
        }
      ],
      "source": [
        "!wget https://raw.githubusercontent.com/sfgeekgit/lesswrongDataDzppg/main/cleared_sites_formated.csv\n",
        "!wget https://raw.githubusercontent.com/sfgeekgit/lesswrongDataDzppg/main/measured_data.csv"
      ]
    },
    {
      "cell_type": "code",
      "execution_count": 61,
      "metadata": {
        "id": "82HUMHLYzpwS"
      },
      "outputs": [],
      "source": [
        "import pandas as pd\n",
        "from sklearn.model_selection import train_test_split\n",
        "import torch\n",
        "import torch.nn as nn\n",
        "import torch.optim as optim\n",
        "import torch.nn.functional as F\n",
        "import matplotlib.pyplot as plt\n",
        "\n",
        "device = 'cuda' if torch.cuda.is_available() else 'cpu'"
      ]
    },
    {
      "cell_type": "code",
      "execution_count": 37,
      "metadata": {
        "id": "KQTuTq9u_WBQ"
      },
      "outputs": [],
      "source": [
        "# import data\n",
        "unlabeled = pd.read_csv('cleared_sites_formated.csv')\n",
        "labeled = pd.read_csv('measured_data.csv')\n",
        "n_features = labeled.shape[1] - 2"
      ]
    },
    {
      "cell_type": "code",
      "execution_count": 38,
      "metadata": {
        "colab": {
          "base_uri": "https://localhost:8080/"
        },
        "id": "xKtElfWrAiqi",
        "outputId": "d5b29791-b579-4255-ac9e-f88c555a8e01"
      },
      "outputs": [
        {
          "name": "stdout",
          "output_type": "stream",
          "text": [
            "train data: 9366\n",
            "test data:  1041\n"
          ]
        }
      ],
      "source": [
        "# split into training and test sets\n",
        "train_data2, test_data = train_test_split(labeled, test_size =.1, random_state = 1)\n",
        "train_labels = train_data2['ZPPG_Performance']\n",
        "train_data = train_data2.drop(['ZPPG_id', 'ZPPG_Performance'], axis=1)\n",
        "\n",
        "print(f'train data: {len(train_data)}')\n",
        "print(f'test data:  {len(test_data)}')"
      ]
    },
    {
      "cell_type": "markdown",
      "metadata": {
        "id": "-RtIRD5cz948"
      },
      "source": [
        "## utils"
      ]
    },
    {
      "cell_type": "code",
      "execution_count": 39,
      "metadata": {
        "id": "4_e6yDO-PVLk"
      },
      "outputs": [],
      "source": [
        "@torch.no_grad()\n",
        "def evaluate(model, dataset):\n",
        "  model.eval()\n",
        "  val = dataset.drop(['ZPPG_id', 'ZPPG_Performance'], axis=1)\n",
        "  preds = model(torch.tensor(val.values).float().to(device))\n",
        "  labels = torch.tensor(dataset['ZPPG_Performance'].values).view(-1, 1).to(device)\n",
        "  diff = preds.detach() - labels\n",
        "  error = diff.abs().mean().item()\n",
        "  model.train()\n",
        "  return error"
      ]
    },
    {
      "cell_type": "code",
      "execution_count": 40,
      "metadata": {
        "id": "90VqjJY46_3T"
      },
      "outputs": [],
      "source": [
        "@torch.no_grad()\n",
        "def topn(model, dataset, n=15):\n",
        "  model.eval()\n",
        "  to_drop = ['ZPPG_id']\n",
        "  if 'ZPPG_Performance' in dataset: to_drop.append('ZPPG_Performance')\n",
        "  preds = model(torch.tensor(dataset.drop(to_drop, axis=1).values).float().to(device))\n",
        "  ids = dataset['ZPPG_id']\n",
        "  preds_id = list(zip(\n",
        "    preds.view(-1).tolist(),\n",
        "    ids.values.tolist()))\n",
        "  return sorted(preds_id, reverse=True)[:n]"
      ]
    },
    {
      "cell_type": "markdown",
      "metadata": {
        "id": "8PS_EWz00EXo"
      },
      "source": [
        "## model and train"
      ]
    },
    {
      "cell_type": "code",
      "execution_count": 41,
      "metadata": {
        "id": "eWGrZfBgAjlJ"
      },
      "outputs": [],
      "source": [
        "class MLP(nn.Module):\n",
        "  def __init__(self, n_inputs=n_features, hidden=64, dropout=0.2):\n",
        "    super().__init__()\n",
        "    self.model = nn.Sequential(\n",
        "        nn.Linear(n_inputs, hidden),\n",
        "        nn.BatchNorm1d(hidden),\n",
        "        nn.ReLU(),\n",
        "        nn.Dropout(dropout),\n",
        "        nn.Linear(hidden, hidden),\n",
        "        nn.BatchNorm1d(hidden),\n",
        "        nn.ReLU(),\n",
        "        nn.Dropout(dropout),\n",
        "        nn.Linear(hidden, hidden),\n",
        "        nn.BatchNorm1d(hidden),\n",
        "        nn.ReLU(),\n",
        "        nn.Dropout(dropout),\n",
        "        nn.Linear(hidden, hidden),\n",
        "        nn.BatchNorm1d(hidden),\n",
        "        nn.ReLU(),\n",
        "        nn.Dropout(dropout),\n",
        "        nn.Linear(hidden, hidden),\n",
        "        nn.BatchNorm1d(hidden),\n",
        "        nn.ReLU(),\n",
        "        nn.Dropout(dropout),\n",
        "        nn.Linear(hidden, hidden),\n",
        "        nn.BatchNorm1d(hidden),\n",
        "        nn.ReLU(),\n",
        "        nn.Dropout(dropout),\n",
        "        nn.Linear(hidden, hidden),\n",
        "        nn.BatchNorm1d(hidden),\n",
        "        nn.ReLU(),\n",
        "        nn.Dropout(dropout),\n",
        "        nn.Linear(hidden, 1),\n",
        "    )\n",
        "  def forward(self, x):\n",
        "    output = self.model(x)\n",
        "    return output"
      ]
    },
    {
      "cell_type": "code",
      "execution_count": 42,
      "metadata": {
        "id": "6ba5xzovGe0u"
      },
      "outputs": [],
      "source": [
        "model = MLP().to(device)"
      ]
    },
    {
      "cell_type": "code",
      "execution_count": 95,
      "metadata": {
        "colab": {
          "base_uri": "https://localhost:8080/"
        },
        "id": "vAdJbaa_AuQ-",
        "outputId": "9180ac60-273b-4a86-d04b-6e0fca155b05"
      },
      "outputs": [
        {
          "name": "stdout",
          "output_type": "stream",
          "text": [
            "epoch=    0 loss.item()= 0.0006 error= 0.0740\n",
            "epoch=  200 loss.item()= 0.0006 error= 0.0702\n",
            "epoch=  400 loss.item()= 0.0006 error= 0.0684\n",
            "epoch=  600 loss.item()= 0.0006 error= 0.0685\n",
            "epoch=  800 loss.item()= 0.0006 error= 0.0688\n"
          ]
        },
        {
          "ename": "KeyboardInterrupt",
          "evalue": "",
          "output_type": "error",
          "traceback": [
            "\u001b[1;31m---------------------------------------------------------------------------\u001b[0m",
            "\u001b[1;31mKeyboardInterrupt\u001b[0m                         Traceback (most recent call last)",
            "Cell \u001b[1;32mIn[95], line 18\u001b[0m\n\u001b[0;32m     15\u001b[0m       \u001b[38;5;28mprint\u001b[39m(\u001b[38;5;124mf\u001b[39m\u001b[38;5;124m'\u001b[39m\u001b[38;5;132;01m{\u001b[39;00mepoch\u001b[38;5;132;01m=:\u001b[39;00m\u001b[38;5;124m5\u001b[39m\u001b[38;5;132;01m}\u001b[39;00m\u001b[38;5;124m \u001b[39m\u001b[38;5;132;01m{\u001b[39;00mloss\u001b[38;5;241m.\u001b[39mitem()\u001b[38;5;132;01m=:\u001b[39;00m\u001b[38;5;124m7.4f\u001b[39m\u001b[38;5;132;01m}\u001b[39;00m\u001b[38;5;124m \u001b[39m\u001b[38;5;132;01m{\u001b[39;00merror\u001b[38;5;132;01m=:\u001b[39;00m\u001b[38;5;124m7.4f\u001b[39m\u001b[38;5;132;01m}\u001b[39;00m\u001b[38;5;124m'\u001b[39m)\n\u001b[0;32m     16\u001b[0m   model\u001b[38;5;241m.\u001b[39meval()\n\u001b[1;32m---> 18\u001b[0m \u001b[43mtrain\u001b[49m\u001b[43m(\u001b[49m\u001b[43mmodel\u001b[49m\u001b[43m,\u001b[49m\u001b[43m \u001b[49m\u001b[43mlabeled\u001b[49m\u001b[43m)\u001b[49m\n",
            "Cell \u001b[1;32mIn[95], line 12\u001b[0m, in \u001b[0;36mtrain\u001b[1;34m(model, df, epochs, log_every, lr, weight_decay)\u001b[0m\n\u001b[0;32m     10\u001b[0m optimizer\u001b[38;5;241m.\u001b[39mzero_grad()\n\u001b[0;32m     11\u001b[0m loss\u001b[38;5;241m.\u001b[39mbackward()\n\u001b[1;32m---> 12\u001b[0m \u001b[43moptimizer\u001b[49m\u001b[38;5;241;43m.\u001b[39;49m\u001b[43mstep\u001b[49m\u001b[43m(\u001b[49m\u001b[43m)\u001b[49m\n\u001b[0;32m     13\u001b[0m \u001b[38;5;28;01mif\u001b[39;00m epoch \u001b[38;5;241m%\u001b[39m log_every \u001b[38;5;241m==\u001b[39m \u001b[38;5;241m0\u001b[39m:\n\u001b[0;32m     14\u001b[0m   error \u001b[38;5;241m=\u001b[39m evaluate(model, df)\n",
            "File \u001b[1;32mc:\\Users\\p\\Desktop\\_ML\\huggingface-nlp-course\\venv\\Lib\\site-packages\\torch\\optim\\optimizer.py:280\u001b[0m, in \u001b[0;36mOptimizer.profile_hook_step.<locals>.wrapper\u001b[1;34m(*args, **kwargs)\u001b[0m\n\u001b[0;32m    276\u001b[0m         \u001b[38;5;28;01melse\u001b[39;00m:\n\u001b[0;32m    277\u001b[0m             \u001b[38;5;28;01mraise\u001b[39;00m \u001b[38;5;167;01mRuntimeError\u001b[39;00m(\u001b[38;5;124mf\u001b[39m\u001b[38;5;124m\"\u001b[39m\u001b[38;5;132;01m{\u001b[39;00mfunc\u001b[38;5;132;01m}\u001b[39;00m\u001b[38;5;124m must return None or a tuple of (new_args, new_kwargs),\u001b[39m\u001b[38;5;124m\"\u001b[39m\n\u001b[0;32m    278\u001b[0m                                \u001b[38;5;124mf\u001b[39m\u001b[38;5;124m\"\u001b[39m\u001b[38;5;124mbut got \u001b[39m\u001b[38;5;132;01m{\u001b[39;00mresult\u001b[38;5;132;01m}\u001b[39;00m\u001b[38;5;124m.\u001b[39m\u001b[38;5;124m\"\u001b[39m)\n\u001b[1;32m--> 280\u001b[0m out \u001b[38;5;241m=\u001b[39m \u001b[43mfunc\u001b[49m\u001b[43m(\u001b[49m\u001b[38;5;241;43m*\u001b[39;49m\u001b[43margs\u001b[49m\u001b[43m,\u001b[49m\u001b[43m \u001b[49m\u001b[38;5;241;43m*\u001b[39;49m\u001b[38;5;241;43m*\u001b[39;49m\u001b[43mkwargs\u001b[49m\u001b[43m)\u001b[49m\n\u001b[0;32m    281\u001b[0m \u001b[38;5;28mself\u001b[39m\u001b[38;5;241m.\u001b[39m_optimizer_step_code()\n\u001b[0;32m    283\u001b[0m \u001b[38;5;66;03m# call optimizer step post hooks\u001b[39;00m\n",
            "File \u001b[1;32mc:\\Users\\p\\Desktop\\_ML\\huggingface-nlp-course\\venv\\Lib\\site-packages\\torch\\optim\\optimizer.py:33\u001b[0m, in \u001b[0;36m_use_grad_for_differentiable.<locals>._use_grad\u001b[1;34m(self, *args, **kwargs)\u001b[0m\n\u001b[0;32m     31\u001b[0m \u001b[38;5;28;01mtry\u001b[39;00m:\n\u001b[0;32m     32\u001b[0m     torch\u001b[38;5;241m.\u001b[39mset_grad_enabled(\u001b[38;5;28mself\u001b[39m\u001b[38;5;241m.\u001b[39mdefaults[\u001b[38;5;124m'\u001b[39m\u001b[38;5;124mdifferentiable\u001b[39m\u001b[38;5;124m'\u001b[39m])\n\u001b[1;32m---> 33\u001b[0m     ret \u001b[38;5;241m=\u001b[39m \u001b[43mfunc\u001b[49m\u001b[43m(\u001b[49m\u001b[38;5;28;43mself\u001b[39;49m\u001b[43m,\u001b[49m\u001b[43m \u001b[49m\u001b[38;5;241;43m*\u001b[39;49m\u001b[43margs\u001b[49m\u001b[43m,\u001b[49m\u001b[43m \u001b[49m\u001b[38;5;241;43m*\u001b[39;49m\u001b[38;5;241;43m*\u001b[39;49m\u001b[43mkwargs\u001b[49m\u001b[43m)\u001b[49m\n\u001b[0;32m     34\u001b[0m \u001b[38;5;28;01mfinally\u001b[39;00m:\n\u001b[0;32m     35\u001b[0m     torch\u001b[38;5;241m.\u001b[39mset_grad_enabled(prev_grad)\n",
            "File \u001b[1;32mc:\\Users\\p\\Desktop\\_ML\\huggingface-nlp-course\\venv\\Lib\\site-packages\\torch\\optim\\adamw.py:171\u001b[0m, in \u001b[0;36mAdamW.step\u001b[1;34m(self, closure)\u001b[0m\n\u001b[0;32m    158\u001b[0m     beta1, beta2 \u001b[38;5;241m=\u001b[39m group[\u001b[38;5;124m\"\u001b[39m\u001b[38;5;124mbetas\u001b[39m\u001b[38;5;124m\"\u001b[39m]\n\u001b[0;32m    160\u001b[0m     \u001b[38;5;28mself\u001b[39m\u001b[38;5;241m.\u001b[39m_init_group(\n\u001b[0;32m    161\u001b[0m         group,\n\u001b[0;32m    162\u001b[0m         params_with_grad,\n\u001b[1;32m   (...)\u001b[0m\n\u001b[0;32m    168\u001b[0m         state_steps,\n\u001b[0;32m    169\u001b[0m     )\n\u001b[1;32m--> 171\u001b[0m     \u001b[43madamw\u001b[49m\u001b[43m(\u001b[49m\n\u001b[0;32m    172\u001b[0m \u001b[43m        \u001b[49m\u001b[43mparams_with_grad\u001b[49m\u001b[43m,\u001b[49m\n\u001b[0;32m    173\u001b[0m \u001b[43m        \u001b[49m\u001b[43mgrads\u001b[49m\u001b[43m,\u001b[49m\n\u001b[0;32m    174\u001b[0m \u001b[43m        \u001b[49m\u001b[43mexp_avgs\u001b[49m\u001b[43m,\u001b[49m\n\u001b[0;32m    175\u001b[0m \u001b[43m        \u001b[49m\u001b[43mexp_avg_sqs\u001b[49m\u001b[43m,\u001b[49m\n\u001b[0;32m    176\u001b[0m \u001b[43m        \u001b[49m\u001b[43mmax_exp_avg_sqs\u001b[49m\u001b[43m,\u001b[49m\n\u001b[0;32m    177\u001b[0m \u001b[43m        \u001b[49m\u001b[43mstate_steps\u001b[49m\u001b[43m,\u001b[49m\n\u001b[0;32m    178\u001b[0m \u001b[43m        \u001b[49m\u001b[43mamsgrad\u001b[49m\u001b[38;5;241;43m=\u001b[39;49m\u001b[43mamsgrad\u001b[49m\u001b[43m,\u001b[49m\n\u001b[0;32m    179\u001b[0m \u001b[43m        \u001b[49m\u001b[43mbeta1\u001b[49m\u001b[38;5;241;43m=\u001b[39;49m\u001b[43mbeta1\u001b[49m\u001b[43m,\u001b[49m\n\u001b[0;32m    180\u001b[0m \u001b[43m        \u001b[49m\u001b[43mbeta2\u001b[49m\u001b[38;5;241;43m=\u001b[39;49m\u001b[43mbeta2\u001b[49m\u001b[43m,\u001b[49m\n\u001b[0;32m    181\u001b[0m \u001b[43m        \u001b[49m\u001b[43mlr\u001b[49m\u001b[38;5;241;43m=\u001b[39;49m\u001b[43mgroup\u001b[49m\u001b[43m[\u001b[49m\u001b[38;5;124;43m\"\u001b[39;49m\u001b[38;5;124;43mlr\u001b[39;49m\u001b[38;5;124;43m\"\u001b[39;49m\u001b[43m]\u001b[49m\u001b[43m,\u001b[49m\n\u001b[0;32m    182\u001b[0m \u001b[43m        \u001b[49m\u001b[43mweight_decay\u001b[49m\u001b[38;5;241;43m=\u001b[39;49m\u001b[43mgroup\u001b[49m\u001b[43m[\u001b[49m\u001b[38;5;124;43m\"\u001b[39;49m\u001b[38;5;124;43mweight_decay\u001b[39;49m\u001b[38;5;124;43m\"\u001b[39;49m\u001b[43m]\u001b[49m\u001b[43m,\u001b[49m\n\u001b[0;32m    183\u001b[0m \u001b[43m        \u001b[49m\u001b[43meps\u001b[49m\u001b[38;5;241;43m=\u001b[39;49m\u001b[43mgroup\u001b[49m\u001b[43m[\u001b[49m\u001b[38;5;124;43m\"\u001b[39;49m\u001b[38;5;124;43meps\u001b[39;49m\u001b[38;5;124;43m\"\u001b[39;49m\u001b[43m]\u001b[49m\u001b[43m,\u001b[49m\n\u001b[0;32m    184\u001b[0m \u001b[43m        \u001b[49m\u001b[43mmaximize\u001b[49m\u001b[38;5;241;43m=\u001b[39;49m\u001b[43mgroup\u001b[49m\u001b[43m[\u001b[49m\u001b[38;5;124;43m\"\u001b[39;49m\u001b[38;5;124;43mmaximize\u001b[39;49m\u001b[38;5;124;43m\"\u001b[39;49m\u001b[43m]\u001b[49m\u001b[43m,\u001b[49m\n\u001b[0;32m    185\u001b[0m \u001b[43m        \u001b[49m\u001b[43mforeach\u001b[49m\u001b[38;5;241;43m=\u001b[39;49m\u001b[43mgroup\u001b[49m\u001b[43m[\u001b[49m\u001b[38;5;124;43m\"\u001b[39;49m\u001b[38;5;124;43mforeach\u001b[39;49m\u001b[38;5;124;43m\"\u001b[39;49m\u001b[43m]\u001b[49m\u001b[43m,\u001b[49m\n\u001b[0;32m    186\u001b[0m \u001b[43m        \u001b[49m\u001b[43mcapturable\u001b[49m\u001b[38;5;241;43m=\u001b[39;49m\u001b[43mgroup\u001b[49m\u001b[43m[\u001b[49m\u001b[38;5;124;43m\"\u001b[39;49m\u001b[38;5;124;43mcapturable\u001b[39;49m\u001b[38;5;124;43m\"\u001b[39;49m\u001b[43m]\u001b[49m\u001b[43m,\u001b[49m\n\u001b[0;32m    187\u001b[0m \u001b[43m        \u001b[49m\u001b[43mdifferentiable\u001b[49m\u001b[38;5;241;43m=\u001b[39;49m\u001b[43mgroup\u001b[49m\u001b[43m[\u001b[49m\u001b[38;5;124;43m\"\u001b[39;49m\u001b[38;5;124;43mdifferentiable\u001b[39;49m\u001b[38;5;124;43m\"\u001b[39;49m\u001b[43m]\u001b[49m\u001b[43m,\u001b[49m\n\u001b[0;32m    188\u001b[0m \u001b[43m        \u001b[49m\u001b[43mfused\u001b[49m\u001b[38;5;241;43m=\u001b[39;49m\u001b[43mgroup\u001b[49m\u001b[43m[\u001b[49m\u001b[38;5;124;43m\"\u001b[39;49m\u001b[38;5;124;43mfused\u001b[39;49m\u001b[38;5;124;43m\"\u001b[39;49m\u001b[43m]\u001b[49m\u001b[43m,\u001b[49m\n\u001b[0;32m    189\u001b[0m \u001b[43m        \u001b[49m\u001b[43mgrad_scale\u001b[49m\u001b[38;5;241;43m=\u001b[39;49m\u001b[38;5;28;43mgetattr\u001b[39;49m\u001b[43m(\u001b[49m\u001b[38;5;28;43mself\u001b[39;49m\u001b[43m,\u001b[49m\u001b[43m \u001b[49m\u001b[38;5;124;43m\"\u001b[39;49m\u001b[38;5;124;43mgrad_scale\u001b[39;49m\u001b[38;5;124;43m\"\u001b[39;49m\u001b[43m,\u001b[49m\u001b[43m \u001b[49m\u001b[38;5;28;43;01mNone\u001b[39;49;00m\u001b[43m)\u001b[49m\u001b[43m,\u001b[49m\n\u001b[0;32m    190\u001b[0m \u001b[43m        \u001b[49m\u001b[43mfound_inf\u001b[49m\u001b[38;5;241;43m=\u001b[39;49m\u001b[38;5;28;43mgetattr\u001b[39;49m\u001b[43m(\u001b[49m\u001b[38;5;28;43mself\u001b[39;49m\u001b[43m,\u001b[49m\u001b[43m \u001b[49m\u001b[38;5;124;43m\"\u001b[39;49m\u001b[38;5;124;43mfound_inf\u001b[39;49m\u001b[38;5;124;43m\"\u001b[39;49m\u001b[43m,\u001b[49m\u001b[43m \u001b[49m\u001b[38;5;28;43;01mNone\u001b[39;49;00m\u001b[43m)\u001b[49m\u001b[43m,\u001b[49m\n\u001b[0;32m    191\u001b[0m \u001b[43m    \u001b[49m\u001b[43m)\u001b[49m\n\u001b[0;32m    193\u001b[0m \u001b[38;5;28;01mreturn\u001b[39;00m loss\n",
            "File \u001b[1;32mc:\\Users\\p\\Desktop\\_ML\\huggingface-nlp-course\\venv\\Lib\\site-packages\\torch\\optim\\adamw.py:321\u001b[0m, in \u001b[0;36madamw\u001b[1;34m(params, grads, exp_avgs, exp_avg_sqs, max_exp_avg_sqs, state_steps, foreach, capturable, differentiable, fused, grad_scale, found_inf, amsgrad, beta1, beta2, lr, weight_decay, eps, maximize)\u001b[0m\n\u001b[0;32m    318\u001b[0m \u001b[38;5;28;01melse\u001b[39;00m:\n\u001b[0;32m    319\u001b[0m     func \u001b[38;5;241m=\u001b[39m _single_tensor_adamw\n\u001b[1;32m--> 321\u001b[0m \u001b[43mfunc\u001b[49m\u001b[43m(\u001b[49m\n\u001b[0;32m    322\u001b[0m \u001b[43m    \u001b[49m\u001b[43mparams\u001b[49m\u001b[43m,\u001b[49m\n\u001b[0;32m    323\u001b[0m \u001b[43m    \u001b[49m\u001b[43mgrads\u001b[49m\u001b[43m,\u001b[49m\n\u001b[0;32m    324\u001b[0m \u001b[43m    \u001b[49m\u001b[43mexp_avgs\u001b[49m\u001b[43m,\u001b[49m\n\u001b[0;32m    325\u001b[0m \u001b[43m    \u001b[49m\u001b[43mexp_avg_sqs\u001b[49m\u001b[43m,\u001b[49m\n\u001b[0;32m    326\u001b[0m \u001b[43m    \u001b[49m\u001b[43mmax_exp_avg_sqs\u001b[49m\u001b[43m,\u001b[49m\n\u001b[0;32m    327\u001b[0m \u001b[43m    \u001b[49m\u001b[43mstate_steps\u001b[49m\u001b[43m,\u001b[49m\n\u001b[0;32m    328\u001b[0m \u001b[43m    \u001b[49m\u001b[43mamsgrad\u001b[49m\u001b[38;5;241;43m=\u001b[39;49m\u001b[43mamsgrad\u001b[49m\u001b[43m,\u001b[49m\n\u001b[0;32m    329\u001b[0m \u001b[43m    \u001b[49m\u001b[43mbeta1\u001b[49m\u001b[38;5;241;43m=\u001b[39;49m\u001b[43mbeta1\u001b[49m\u001b[43m,\u001b[49m\n\u001b[0;32m    330\u001b[0m \u001b[43m    \u001b[49m\u001b[43mbeta2\u001b[49m\u001b[38;5;241;43m=\u001b[39;49m\u001b[43mbeta2\u001b[49m\u001b[43m,\u001b[49m\n\u001b[0;32m    331\u001b[0m \u001b[43m    \u001b[49m\u001b[43mlr\u001b[49m\u001b[38;5;241;43m=\u001b[39;49m\u001b[43mlr\u001b[49m\u001b[43m,\u001b[49m\n\u001b[0;32m    332\u001b[0m \u001b[43m    \u001b[49m\u001b[43mweight_decay\u001b[49m\u001b[38;5;241;43m=\u001b[39;49m\u001b[43mweight_decay\u001b[49m\u001b[43m,\u001b[49m\n\u001b[0;32m    333\u001b[0m \u001b[43m    \u001b[49m\u001b[43meps\u001b[49m\u001b[38;5;241;43m=\u001b[39;49m\u001b[43meps\u001b[49m\u001b[43m,\u001b[49m\n\u001b[0;32m    334\u001b[0m \u001b[43m    \u001b[49m\u001b[43mmaximize\u001b[49m\u001b[38;5;241;43m=\u001b[39;49m\u001b[43mmaximize\u001b[49m\u001b[43m,\u001b[49m\n\u001b[0;32m    335\u001b[0m \u001b[43m    \u001b[49m\u001b[43mcapturable\u001b[49m\u001b[38;5;241;43m=\u001b[39;49m\u001b[43mcapturable\u001b[49m\u001b[43m,\u001b[49m\n\u001b[0;32m    336\u001b[0m \u001b[43m    \u001b[49m\u001b[43mdifferentiable\u001b[49m\u001b[38;5;241;43m=\u001b[39;49m\u001b[43mdifferentiable\u001b[49m\u001b[43m,\u001b[49m\n\u001b[0;32m    337\u001b[0m \u001b[43m    \u001b[49m\u001b[43mgrad_scale\u001b[49m\u001b[38;5;241;43m=\u001b[39;49m\u001b[43mgrad_scale\u001b[49m\u001b[43m,\u001b[49m\n\u001b[0;32m    338\u001b[0m \u001b[43m    \u001b[49m\u001b[43mfound_inf\u001b[49m\u001b[38;5;241;43m=\u001b[39;49m\u001b[43mfound_inf\u001b[49m\u001b[43m,\u001b[49m\n\u001b[0;32m    339\u001b[0m \u001b[43m\u001b[49m\u001b[43m)\u001b[49m\n",
            "File \u001b[1;32mc:\\Users\\p\\Desktop\\_ML\\huggingface-nlp-course\\venv\\Lib\\site-packages\\torch\\optim\\adamw.py:564\u001b[0m, in \u001b[0;36m_multi_tensor_adamw\u001b[1;34m(params, grads, exp_avgs, exp_avg_sqs, max_exp_avg_sqs, state_steps, grad_scale, found_inf, amsgrad, beta1, beta2, lr, weight_decay, eps, maximize, capturable, differentiable)\u001b[0m\n\u001b[0;32m    562\u001b[0m     denom \u001b[38;5;241m=\u001b[39m torch\u001b[38;5;241m.\u001b[39m_foreach_add(max_exp_avg_sq_sqrt, eps)\n\u001b[0;32m    563\u001b[0m \u001b[38;5;28;01melse\u001b[39;00m:\n\u001b[1;32m--> 564\u001b[0m     exp_avg_sq_sqrt \u001b[38;5;241m=\u001b[39m \u001b[43mtorch\u001b[49m\u001b[38;5;241;43m.\u001b[39;49m\u001b[43m_foreach_sqrt\u001b[49m\u001b[43m(\u001b[49m\u001b[43mdevice_exp_avg_sqs\u001b[49m\u001b[43m)\u001b[49m\n\u001b[0;32m    565\u001b[0m     torch\u001b[38;5;241m.\u001b[39m_foreach_div_(exp_avg_sq_sqrt, bias_correction2_sqrt)\n\u001b[0;32m    566\u001b[0m     denom \u001b[38;5;241m=\u001b[39m torch\u001b[38;5;241m.\u001b[39m_foreach_add(exp_avg_sq_sqrt, eps)\n",
            "\u001b[1;31mKeyboardInterrupt\u001b[0m: "
          ]
        }
      ],
      "source": [
        "def train(model, df, epochs=100000, log_every=200, lr=3e-4, weight_decay=0.01):\n",
        "  model.train()\n",
        "  optimizer = optim.AdamW(model.parameters(), lr=lr, weight_decay=weight_decay)\n",
        "  labels = torch.tensor(df['ZPPG_Performance'].values).float().view(-1, 1).to(device)\n",
        "  data = df.drop(['ZPPG_id', 'ZPPG_Performance'], axis=1)\n",
        "  data = torch.tensor(data.values).float().to(device)\n",
        "  for epoch in range(epochs):\n",
        "    predictions = model(data)\n",
        "    loss = F.mse_loss(predictions, labels)\n",
        "    optimizer.zero_grad()\n",
        "    loss.backward()\n",
        "    optimizer.step()\n",
        "    if epoch % log_every == 0:\n",
        "      error = evaluate(model, df)\n",
        "      print(f'{epoch=:5} {loss.item()=:7.4f} {error=:7.4f}')\n",
        "  model.eval()\n",
        "\n",
        "train(model, labeled)"
      ]
    },
    {
      "cell_type": "code",
      "execution_count": null,
      "metadata": {},
      "outputs": [],
      "source": [
        "# save\n",
        "# ----\n",
        "# torch.save(model.state_dict(), 'weights/mlp2.pt')\n",
        "\n",
        "# load\n",
        "# ----\n",
        "# m = MLP().to(device)\n",
        "# m.load_state_dict(torch.load('weights/mlp.pt'))"
      ]
    },
    {
      "cell_type": "markdown",
      "metadata": {
        "id": "1nDTgt3p0Jgm"
      },
      "source": [
        "## eval"
      ]
    },
    {
      "cell_type": "code",
      "execution_count": 44,
      "metadata": {
        "colab": {
          "base_uri": "https://localhost:8080/"
        },
        "id": "tLl-ai-v1uMU",
        "outputId": "12d8182e-9fde-47b9-83b3-ebba0640113c"
      },
      "outputs": [
        {
          "data": {
            "text/plain": [
              "[(0.5023767948150635, 107278),\n",
              " (0.5023516416549683, 96286),\n",
              " (0.4998026490211487, 23565),\n",
              " (0.4972749352455139, 9344),\n",
              " (0.4961569905281067, 16423),\n",
              " (0.493185818195343, 905),\n",
              " (0.49086564779281616, 80395),\n",
              " (0.48947596549987793, 87620),\n",
              " (0.48929280042648315, 93762),\n",
              " (0.48920321464538574, 94408),\n",
              " (0.48849719762802124, 83512),\n",
              " (0.4879477620124817, 40297),\n",
              " (0.4876636266708374, 62718),\n",
              " (0.4860466718673706, 44719),\n",
              " (0.4857943654060364, 38055)]"
            ]
          },
          "execution_count": 44,
          "metadata": {},
          "output_type": "execute_result"
        }
      ],
      "source": [
        "# predict solution\n",
        "topn(model, unlabeled)"
      ]
    },
    {
      "cell_type": "code",
      "execution_count": null,
      "metadata": {
        "colab": {
          "base_uri": "https://localhost:8080/"
        },
        "id": "Gqh4i9be19PY",
        "outputId": "81646972-c4e3-4ce9-ab81-7afee8518e6d"
      },
      "outputs": [
        {
          "data": {
            "text/plain": [
              "[(1.8702857494354248, 3412),\n",
              " (1.8266371488571167, 2695),\n",
              " (1.8240541219711304, 7487),\n",
              " (1.8221070766448975, 2509),\n",
              " (1.821927547454834, 3773),\n",
              " (1.8169137239456177, 8721),\n",
              " (1.8135265111923218, 5386),\n",
              " (1.8075464963912964, 5751),\n",
              " (1.8061460256576538, 7243),\n",
              " (1.7997924089431763, 2004),\n",
              " (1.797755241394043, 5072),\n",
              " (1.7943958044052124, 4148),\n",
              " (1.7933684587478638, 6989),\n",
              " (1.791631817817688, 7146),\n",
              " (1.7850587368011475, 5667)]"
            ]
          },
          "execution_count": 21,
          "metadata": {},
          "output_type": "execute_result"
        }
      ],
      "source": [
        "# validation\n",
        "topn(model, test_data)\n",
        "topn(model, train_data2)"
      ]
    },
    {
      "cell_type": "markdown",
      "metadata": {},
      "source": [
        "## experiment: balance the dataset"
      ]
    },
    {
      "cell_type": "code",
      "execution_count": 73,
      "metadata": {},
      "outputs": [],
      "source": [
        "def bucket_histogram(df):\n",
        "    grouped = df.groupby('bucket', observed=True)\n",
        "    grouped['bucket'].count().plot(kind='bar')\n",
        "    plt.xlabel('bucket')\n",
        "    plt.ylabel('count')\n",
        "    plt.title('10% buckets of ZPPG_Performance')\n",
        "    plt.xticks(rotation=45)\n",
        "    plt.show()"
      ]
    },
    {
      "cell_type": "code",
      "execution_count": 75,
      "metadata": {},
      "outputs": [
        {
          "data": {
            "image/png": "[encoded data removed]",
            "text/plain": [
              "<Figure size 640x480 with 1 Axes>"
            ]
          },
          "metadata": {},
          "output_type": "display_data"
        }
      ],
      "source": [
        "df = labeled.copy()\n",
        "bins = range(0, 100, 10)\n",
        "df['bucket'] = pd.cut(df['ZPPG_Performance'] * 100, bins=bins)\n",
        "bucket_histogram(df)"
      ]
    },
    {
      "cell_type": "markdown",
      "metadata": {},
      "source": [
        "### sample down"
      ]
    },
    {
      "cell_type": "code",
      "execution_count": 89,
      "metadata": {},
      "outputs": [],
      "source": [
        "def sample(df, n=50):\n",
        "    grouped = df.groupby('bucket', observed=True)\n",
        "    samples = [group.sample(min(len(group), 50)) for _, group in grouped]\n",
        "    sampled = pd.concat(samples, ignore_index=True)\n",
        "    return sampled.drop(['bucket'], axis=1)\n",
        "\n",
        "sampled = sample(df)"
      ]
    },
    {
      "cell_type": "code",
      "execution_count": 99,
      "metadata": {},
      "outputs": [],
      "source": [
        "sampled_model = MLP().to(device)"
      ]
    },
    {
      "cell_type": "code",
      "execution_count": 113,
      "metadata": {},
      "outputs": [
        {
          "name": "stdout",
          "output_type": "stream",
          "text": [
            "epoch=    0 loss.item()= 0.0012 error= 0.0438\n",
            "epoch=  200 loss.item()= 0.0013 error= 0.0437\n",
            "epoch=  400 loss.item()= 0.0012 error= 0.0438\n",
            "epoch=  600 loss.item()= 0.0011 error= 0.0437\n",
            "epoch=  800 loss.item()= 0.0012 error= 0.0438\n",
            "epoch= 1000 loss.item()= 0.0013 error= 0.0440\n",
            "epoch= 1200 loss.item()= 0.0013 error= 0.0438\n",
            "epoch= 1400 loss.item()= 0.0012 error= 0.0436\n",
            "epoch= 1600 loss.item()= 0.0013 error= 0.0432\n",
            "epoch= 1800 loss.item()= 0.0013 error= 0.0438\n",
            "epoch= 2000 loss.item()= 0.0013 error= 0.0439\n",
            "epoch= 2200 loss.item()= 0.0012 error= 0.0438\n",
            "epoch= 2400 loss.item()= 0.0011 error= 0.0439\n",
            "epoch= 2600 loss.item()= 0.0011 error= 0.0437\n",
            "epoch= 2800 loss.item()= 0.0013 error= 0.0441\n",
            "epoch= 3000 loss.item()= 0.0012 error= 0.0438\n",
            "epoch= 3200 loss.item()= 0.0013 error= 0.0439\n",
            "epoch= 3400 loss.item()= 0.0014 error= 0.0434\n",
            "epoch= 3600 loss.item()= 0.0015 error= 0.0439\n",
            "epoch= 3800 loss.item()= 0.0014 error= 0.0438\n",
            "epoch= 4000 loss.item()= 0.0012 error= 0.0441\n",
            "epoch= 4200 loss.item()= 0.0013 error= 0.0437\n",
            "epoch= 4400 loss.item()= 0.0011 error= 0.0436\n",
            "epoch= 4600 loss.item()= 0.0012 error= 0.0437\n",
            "epoch= 4800 loss.item()= 0.0012 error= 0.0438\n",
            "epoch= 5000 loss.item()= 0.0012 error= 0.0438\n",
            "epoch= 5200 loss.item()= 0.0013 error= 0.0437\n",
            "epoch= 5400 loss.item()= 0.0013 error= 0.0436\n",
            "epoch= 5600 loss.item()= 0.0012 error= 0.0441\n",
            "epoch= 5800 loss.item()= 0.0015 error= 0.0436\n",
            "epoch= 6000 loss.item()= 0.0012 error= 0.0434\n",
            "epoch= 6200 loss.item()= 0.0012 error= 0.0441\n",
            "epoch= 6400 loss.item()= 0.0012 error= 0.0440\n",
            "epoch= 6600 loss.item()= 0.0013 error= 0.0439\n",
            "epoch= 6800 loss.item()= 0.0013 error= 0.0439\n",
            "epoch= 7000 loss.item()= 0.0011 error= 0.0436\n",
            "epoch= 7200 loss.item()= 0.0012 error= 0.0436\n",
            "epoch= 7400 loss.item()= 0.0014 error= 0.0437\n",
            "epoch= 7600 loss.item()= 0.0011 error= 0.0438\n",
            "epoch= 7800 loss.item()= 0.0013 error= 0.0436\n",
            "epoch= 8000 loss.item()= 0.0013 error= 0.0434\n",
            "epoch= 8200 loss.item()= 0.0012 error= 0.0436\n",
            "epoch= 8400 loss.item()= 0.0013 error= 0.0440\n",
            "epoch= 8600 loss.item()= 0.0013 error= 0.0441\n",
            "epoch= 8800 loss.item()= 0.0011 error= 0.0437\n",
            "epoch= 9000 loss.item()= 0.0013 error= 0.0439\n",
            "epoch= 9200 loss.item()= 0.0015 error= 0.0441\n",
            "epoch= 9400 loss.item()= 0.0013 error= 0.0435\n",
            "epoch= 9600 loss.item()= 0.0012 error= 0.0441\n",
            "epoch= 9800 loss.item()= 0.0013 error= 0.0443\n",
            "epoch=10000 loss.item()= 0.0014 error= 0.0441\n",
            "epoch=10200 loss.item()= 0.0013 error= 0.0438\n",
            "epoch=10400 loss.item()= 0.0012 error= 0.0444\n",
            "epoch=10600 loss.item()= 0.0013 error= 0.0440\n",
            "epoch=10800 loss.item()= 0.0012 error= 0.0441\n",
            "epoch=11000 loss.item()= 0.0011 error= 0.0434\n",
            "epoch=11200 loss.item()= 0.0013 error= 0.0441\n",
            "epoch=11400 loss.item()= 0.0014 error= 0.0439\n",
            "epoch=11600 loss.item()= 0.0013 error= 0.0439\n",
            "epoch=11800 loss.item()= 0.0013 error= 0.0439\n",
            "epoch=12000 loss.item()= 0.0011 error= 0.0440\n",
            "epoch=12200 loss.item()= 0.0011 error= 0.0441\n",
            "epoch=12400 loss.item()= 0.0014 error= 0.0436\n",
            "epoch=12600 loss.item()= 0.0011 error= 0.0441\n",
            "epoch=12800 loss.item()= 0.0013 error= 0.0434\n",
            "epoch=13000 loss.item()= 0.0013 error= 0.0437\n",
            "epoch=13200 loss.item()= 0.0010 error= 0.0442\n",
            "epoch=13400 loss.item()= 0.0013 error= 0.0439\n",
            "epoch=13600 loss.item()= 0.0013 error= 0.0438\n",
            "epoch=13800 loss.item()= 0.0013 error= 0.0440\n",
            "epoch=14000 loss.item()= 0.0014 error= 0.0442\n",
            "epoch=14200 loss.item()= 0.0011 error= 0.0441\n",
            "epoch=14400 loss.item()= 0.0012 error= 0.0442\n",
            "epoch=14600 loss.item()= 0.0012 error= 0.0443\n",
            "epoch=14800 loss.item()= 0.0011 error= 0.0438\n",
            "epoch=15000 loss.item()= 0.0011 error= 0.0437\n",
            "epoch=15200 loss.item()= 0.0012 error= 0.0439\n",
            "epoch=15400 loss.item()= 0.0013 error= 0.0440\n",
            "epoch=15600 loss.item()= 0.0011 error= 0.0437\n",
            "epoch=15800 loss.item()= 0.0012 error= 0.0440\n",
            "epoch=16000 loss.item()= 0.0012 error= 0.0438\n",
            "epoch=16200 loss.item()= 0.0014 error= 0.0439\n",
            "epoch=16400 loss.item()= 0.0014 error= 0.0440\n",
            "epoch=16600 loss.item()= 0.0012 error= 0.0444\n",
            "epoch=16800 loss.item()= 0.0015 error= 0.0442\n",
            "epoch=17000 loss.item()= 0.0012 error= 0.0438\n",
            "epoch=17200 loss.item()= 0.0013 error= 0.0439\n",
            "epoch=17400 loss.item()= 0.0012 error= 0.0435\n",
            "epoch=17600 loss.item()= 0.0010 error= 0.0441\n",
            "epoch=17800 loss.item()= 0.0012 error= 0.0441\n",
            "epoch=18000 loss.item()= 0.0012 error= 0.0435\n",
            "epoch=18200 loss.item()= 0.0011 error= 0.0441\n",
            "epoch=18400 loss.item()= 0.0013 error= 0.0439\n",
            "epoch=18600 loss.item()= 0.0013 error= 0.0436\n",
            "epoch=18800 loss.item()= 0.0015 error= 0.0435\n",
            "epoch=19000 loss.item()= 0.0013 error= 0.0439\n",
            "epoch=19200 loss.item()= 0.0011 error= 0.0438\n",
            "epoch=19400 loss.item()= 0.0012 error= 0.0438\n",
            "epoch=19600 loss.item()= 0.0013 error= 0.0439\n",
            "epoch=19800 loss.item()= 0.0011 error= 0.0440\n",
            "epoch=20000 loss.item()= 0.0012 error= 0.0437\n",
            "epoch=20200 loss.item()= 0.0012 error= 0.0440\n",
            "epoch=20400 loss.item()= 0.0012 error= 0.0440\n",
            "epoch=20600 loss.item()= 0.0011 error= 0.0439\n",
            "epoch=20800 loss.item()= 0.0012 error= 0.0442\n",
            "epoch=21000 loss.item()= 0.0011 error= 0.0437\n",
            "epoch=21200 loss.item()= 0.0012 error= 0.0436\n",
            "epoch=21400 loss.item()= 0.0014 error= 0.0437\n",
            "epoch=21600 loss.item()= 0.0014 error= 0.0439\n",
            "epoch=21800 loss.item()= 0.0012 error= 0.0442\n",
            "epoch=22000 loss.item()= 0.0014 error= 0.0437\n",
            "epoch=22200 loss.item()= 0.0015 error= 0.0437\n",
            "epoch=22400 loss.item()= 0.0012 error= 0.0440\n",
            "epoch=22600 loss.item()= 0.0012 error= 0.0439\n",
            "epoch=22800 loss.item()= 0.0013 error= 0.0441\n",
            "epoch=23000 loss.item()= 0.0014 error= 0.0436\n",
            "epoch=23200 loss.item()= 0.0013 error= 0.0440\n",
            "epoch=23400 loss.item()= 0.0010 error= 0.0441\n",
            "epoch=23600 loss.item()= 0.0012 error= 0.0438\n",
            "epoch=23800 loss.item()= 0.0011 error= 0.0442\n",
            "epoch=24000 loss.item()= 0.0012 error= 0.0442\n",
            "epoch=24200 loss.item()= 0.0014 error= 0.0441\n",
            "epoch=24400 loss.item()= 0.0010 error= 0.0437\n",
            "epoch=24600 loss.item()= 0.0012 error= 0.0440\n",
            "epoch=24800 loss.item()= 0.0016 error= 0.0435\n",
            "epoch=25000 loss.item()= 0.0011 error= 0.0442\n",
            "epoch=25200 loss.item()= 0.0012 error= 0.0439\n",
            "epoch=25400 loss.item()= 0.0012 error= 0.0436\n",
            "epoch=25600 loss.item()= 0.0013 error= 0.0436\n",
            "epoch=25800 loss.item()= 0.0012 error= 0.0437\n",
            "epoch=26000 loss.item()= 0.0012 error= 0.0436\n",
            "epoch=26200 loss.item()= 0.0014 error= 0.0439\n",
            "epoch=26400 loss.item()= 0.0010 error= 0.0437\n",
            "epoch=26600 loss.item()= 0.0012 error= 0.0442\n",
            "epoch=26800 loss.item()= 0.0013 error= 0.0440\n",
            "epoch=27000 loss.item()= 0.0013 error= 0.0440\n",
            "epoch=27200 loss.item()= 0.0011 error= 0.0436\n",
            "epoch=27400 loss.item()= 0.0015 error= 0.0439\n",
            "epoch=27600 loss.item()= 0.0014 error= 0.0441\n",
            "epoch=27800 loss.item()= 0.0013 error= 0.0443\n",
            "epoch=28000 loss.item()= 0.0013 error= 0.0438\n",
            "epoch=28200 loss.item()= 0.0014 error= 0.0443\n",
            "epoch=28400 loss.item()= 0.0012 error= 0.0440\n",
            "epoch=28600 loss.item()= 0.0014 error= 0.0442\n",
            "epoch=28800 loss.item()= 0.0012 error= 0.0435\n",
            "epoch=29000 loss.item()= 0.0011 error= 0.0440\n",
            "epoch=29200 loss.item()= 0.0013 error= 0.0441\n",
            "epoch=29400 loss.item()= 0.0011 error= 0.0438\n",
            "epoch=29600 loss.item()= 0.0011 error= 0.0435\n",
            "epoch=29800 loss.item()= 0.0012 error= 0.0442\n"
          ]
        }
      ],
      "source": [
        "train(sampled_model, sampled, epochs=30000, lr=1e-6)"
      ]
    },
    {
      "cell_type": "code",
      "execution_count": 114,
      "metadata": {},
      "outputs": [
        {
          "data": {
            "text/plain": [
              "[(0.7847162485122681, 76804),\n",
              " (0.7804363369941711, 71793),\n",
              " (0.7791130542755127, 72376),\n",
              " (0.7736898064613342, 94408),\n",
              " (0.7723697423934937, 18369),\n",
              " (0.7723492383956909, 952),\n",
              " (0.7691422700881958, 7101),\n",
              " (0.7679545283317566, 88956),\n",
              " (0.7659670114517212, 58945),\n",
              " (0.765868604183197, 104260),\n",
              " (0.7655607461929321, 59917),\n",
              " (0.765295147895813, 479),\n",
              " (0.7651427984237671, 105607),\n",
              " (0.7650604248046875, 93762),\n",
              " (0.764275074005127, 81319)]"
            ]
          },
          "execution_count": 114,
          "metadata": {},
          "output_type": "execute_result"
        }
      ],
      "source": [
        "# predict solution\n",
        "topn(sampled_model, unlabeled)"
      ]
    },
    {
      "cell_type": "markdown",
      "metadata": {},
      "source": [
        "### sample up"
      ]
    },
    {
      "cell_type": "code",
      "execution_count": 123,
      "metadata": {},
      "outputs": [],
      "source": [
        "def upsample(df, n=2000):\n",
        "    grouped = df.groupby('bucket', observed=True)\n",
        "    samples = [(group if len(group) > n else group.sample(n, replace=True)) for _, group in grouped]\n",
        "    sampled = pd.concat(samples, ignore_index=True)\n",
        "    return sampled.drop(['bucket'], axis=1)\n",
        "\n",
        "upsampled = upsample(df)"
      ]
    },
    {
      "cell_type": "code",
      "execution_count": 124,
      "metadata": {},
      "outputs": [],
      "source": [
        "upsampled_model = MLP().to(device)"
      ]
    },
    {
      "cell_type": "code",
      "execution_count": 129,
      "metadata": {},
      "outputs": [
        {
          "name": "stdout",
          "output_type": "stream",
          "text": [
            "epoch=    0 loss.item()= 0.0011 error= 0.0933\n",
            "epoch=  200 loss.item()= 0.0011 error= 0.0923\n",
            "epoch=  400 loss.item()= 0.0011 error= 0.0928\n",
            "epoch=  600 loss.item()= 0.0011 error= 0.0928\n",
            "epoch=  800 loss.item()= 0.0011 error= 0.0938\n",
            "epoch= 1000 loss.item()= 0.0011 error= 0.0925\n",
            "epoch= 1200 loss.item()= 0.0011 error= 0.0933\n",
            "epoch= 1400 loss.item()= 0.0011 error= 0.0922\n",
            "epoch= 1600 loss.item()= 0.0011 error= 0.0931\n",
            "epoch= 1800 loss.item()= 0.0011 error= 0.0934\n",
            "epoch= 2000 loss.item()= 0.0011 error= 0.0927\n",
            "epoch= 2200 loss.item()= 0.0011 error= 0.0925\n",
            "epoch= 2400 loss.item()= 0.0011 error= 0.0921\n",
            "epoch= 2600 loss.item()= 0.0011 error= 0.0928\n",
            "epoch= 2800 loss.item()= 0.0011 error= 0.0913\n",
            "epoch= 3000 loss.item()= 0.0011 error= 0.0926\n",
            "epoch= 3200 loss.item()= 0.0011 error= 0.0919\n",
            "epoch= 3400 loss.item()= 0.0011 error= 0.0921\n",
            "epoch= 3600 loss.item()= 0.0011 error= 0.0928\n",
            "epoch= 3800 loss.item()= 0.0011 error= 0.0924\n",
            "epoch= 4000 loss.item()= 0.0011 error= 0.0942\n",
            "epoch= 4200 loss.item()= 0.0011 error= 0.0934\n",
            "epoch= 4400 loss.item()= 0.0011 error= 0.0921\n",
            "epoch= 4600 loss.item()= 0.0011 error= 0.0919\n",
            "epoch= 4800 loss.item()= 0.0011 error= 0.0932\n",
            "epoch= 5000 loss.item()= 0.0011 error= 0.0926\n",
            "epoch= 5200 loss.item()= 0.0011 error= 0.0922\n",
            "epoch= 5400 loss.item()= 0.0011 error= 0.0936\n",
            "epoch= 5600 loss.item()= 0.0011 error= 0.0934\n",
            "epoch= 5800 loss.item()= 0.0011 error= 0.0931\n",
            "epoch= 6000 loss.item()= 0.0011 error= 0.0928\n",
            "epoch= 6200 loss.item()= 0.0011 error= 0.0931\n",
            "epoch= 6400 loss.item()= 0.0011 error= 0.0912\n",
            "epoch= 6600 loss.item()= 0.0011 error= 0.0929\n",
            "epoch= 6800 loss.item()= 0.0011 error= 0.0925\n",
            "epoch= 7000 loss.item()= 0.0011 error= 0.0923\n",
            "epoch= 7200 loss.item()= 0.0011 error= 0.0919\n",
            "epoch= 7400 loss.item()= 0.0011 error= 0.0924\n",
            "epoch= 7600 loss.item()= 0.0011 error= 0.0921\n",
            "epoch= 7800 loss.item()= 0.0011 error= 0.0943\n",
            "epoch= 8000 loss.item()= 0.0011 error= 0.0925\n",
            "epoch= 8200 loss.item()= 0.0011 error= 0.0921\n",
            "epoch= 8400 loss.item()= 0.0011 error= 0.0920\n",
            "epoch= 8600 loss.item()= 0.0011 error= 0.0912\n",
            "epoch= 8800 loss.item()= 0.0011 error= 0.0925\n",
            "epoch= 9000 loss.item()= 0.0011 error= 0.0931\n",
            "epoch= 9200 loss.item()= 0.0011 error= 0.0926\n",
            "epoch= 9400 loss.item()= 0.0011 error= 0.0922\n",
            "epoch= 9600 loss.item()= 0.0011 error= 0.0918\n",
            "epoch= 9800 loss.item()= 0.0011 error= 0.0930\n",
            "epoch=10000 loss.item()= 0.0011 error= 0.0933\n",
            "epoch=10200 loss.item()= 0.0011 error= 0.0924\n",
            "epoch=10400 loss.item()= 0.0011 error= 0.0925\n",
            "epoch=10600 loss.item()= 0.0011 error= 0.0917\n",
            "epoch=10800 loss.item()= 0.0011 error= 0.0911\n",
            "epoch=11000 loss.item()= 0.0011 error= 0.0933\n",
            "epoch=11200 loss.item()= 0.0011 error= 0.0925\n",
            "epoch=11400 loss.item()= 0.0011 error= 0.0926\n",
            "epoch=11600 loss.item()= 0.0011 error= 0.0934\n",
            "epoch=11800 loss.item()= 0.0011 error= 0.0940\n",
            "epoch=12000 loss.item()= 0.0011 error= 0.0932\n",
            "epoch=12200 loss.item()= 0.0011 error= 0.0920\n",
            "epoch=12400 loss.item()= 0.0011 error= 0.0937\n",
            "epoch=12600 loss.item()= 0.0011 error= 0.0921\n",
            "epoch=12800 loss.item()= 0.0011 error= 0.0928\n",
            "epoch=13000 loss.item()= 0.0011 error= 0.0928\n",
            "epoch=13200 loss.item()= 0.0011 error= 0.0923\n",
            "epoch=13400 loss.item()= 0.0011 error= 0.0930\n",
            "epoch=13600 loss.item()= 0.0011 error= 0.0934\n",
            "epoch=13800 loss.item()= 0.0011 error= 0.0938\n",
            "epoch=14000 loss.item()= 0.0011 error= 0.0932\n",
            "epoch=14200 loss.item()= 0.0011 error= 0.0928\n",
            "epoch=14400 loss.item()= 0.0011 error= 0.0921\n",
            "epoch=14600 loss.item()= 0.0011 error= 0.0933\n",
            "epoch=14800 loss.item()= 0.0011 error= 0.0941\n",
            "epoch=15000 loss.item()= 0.0011 error= 0.0940\n",
            "epoch=15200 loss.item()= 0.0011 error= 0.0926\n",
            "epoch=15400 loss.item()= 0.0011 error= 0.0931\n",
            "epoch=15600 loss.item()= 0.0011 error= 0.0934\n",
            "epoch=15800 loss.item()= 0.0011 error= 0.0934\n",
            "epoch=16000 loss.item()= 0.0011 error= 0.0934\n",
            "epoch=16200 loss.item()= 0.0011 error= 0.0932\n",
            "epoch=16400 loss.item()= 0.0011 error= 0.0929\n",
            "epoch=16600 loss.item()= 0.0011 error= 0.0927\n",
            "epoch=16800 loss.item()= 0.0011 error= 0.0933\n",
            "epoch=17000 loss.item()= 0.0010 error= 0.0939\n",
            "epoch=17200 loss.item()= 0.0011 error= 0.0927\n",
            "epoch=17400 loss.item()= 0.0011 error= 0.0922\n",
            "epoch=17600 loss.item()= 0.0011 error= 0.0936\n",
            "epoch=17800 loss.item()= 0.0011 error= 0.0930\n",
            "epoch=18000 loss.item()= 0.0011 error= 0.0937\n",
            "epoch=18200 loss.item()= 0.0011 error= 0.0943\n",
            "epoch=18400 loss.item()= 0.0010 error= 0.0941\n",
            "epoch=18600 loss.item()= 0.0011 error= 0.0939\n",
            "epoch=18800 loss.item()= 0.0011 error= 0.0930\n",
            "epoch=19000 loss.item()= 0.0011 error= 0.0921\n",
            "epoch=19200 loss.item()= 0.0011 error= 0.0930\n",
            "epoch=19400 loss.item()= 0.0011 error= 0.0919\n",
            "epoch=19600 loss.item()= 0.0011 error= 0.0936\n",
            "epoch=19800 loss.item()= 0.0011 error= 0.0923\n"
          ]
        }
      ],
      "source": [
        "train(upsampled_model, upsampled, epochs=20000)"
      ]
    },
    {
      "cell_type": "code",
      "execution_count": 130,
      "metadata": {},
      "outputs": [
        {
          "data": {
            "text/plain": [
              "[(0.6616739630699158, 23565),\n",
              " (0.650332510471344, 16423),\n",
              " (0.649997353553772, 96286),\n",
              " (0.6470462679862976, 8415),\n",
              " (0.6463005542755127, 106276),\n",
              " (0.6435211896896362, 93762),\n",
              " (0.6419152021408081, 110080),\n",
              " (0.6417442560195923, 7101),\n",
              " (0.6394185423851013, 87620),\n",
              " (0.6392368078231812, 52609),\n",
              " (0.6378263235092163, 18123),\n",
              " (0.6370429992675781, 107278),\n",
              " (0.6351938247680664, 58945),\n",
              " (0.6351312398910522, 10265),\n",
              " (0.6350407600402832, 34438)]"
            ]
          },
          "execution_count": 130,
          "metadata": {},
          "output_type": "execute_result"
        }
      ],
      "source": [
        "# predict solution\n",
        "topn(upsampled_model, unlabeled)"
      ]
    }
  ],
  "metadata": {
    "accelerator": "GPU",
    "colab": {
      "gpuType": "T4",
      "provenance": []
    },
    "kernelspec": {
      "display_name": "venv_hf_nlp",
      "language": "python",
      "name": "venv_hf_nlp"
    },
    "language_info": {
      "codemirror_mode": {
        "name": "ipython",
        "version": 3
      },
      "file_extension": ".py",
      "mimetype": "text/x-python",
      "name": "python",
      "nbconvert_exporter": "python",
      "pygments_lexer": "ipython3",
      "version": "3.11.2"
    }
  },
  "nbformat": 4,
  "nbformat_minor": 0
}
